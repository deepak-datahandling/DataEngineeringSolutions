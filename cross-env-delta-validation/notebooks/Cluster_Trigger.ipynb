{
 "cells": [
  {
   "cell_type": "code",
   "execution_count": null,
   "metadata": {},
   "outputs": [],
   "source": [
    "#Getting and Assigning Required Parameters to Start teh respective Clusters\n",
    "import requests\n",
    "from time import sleep\n",
    "\n",
    "#defining prod token\n",
    "dbutils.widgets.text(\"ProdAccessToken\",\"\")\n",
    "ProdToken=dbutils.widgets.get(\"ProdAccessToken\")\n",
    "\n",
    "#defining Dev token\n",
    "dbutils.widgets.text(\"DevAccessToken\",\"\")\n",
    "DevToken=dbutils.widgets.get(\"DevAccessToken\")\n",
    "\n",
    "#defining Domain URL's\n",
    "prod_domain_url=\"<Enter the Prod Environment URL>\"\n",
    "dev_domain_url=\"<Enter the Dev Environment URL>\"\n",
    "\n",
    "#defining Cluser ID's\n",
    "Prod_Cluster_1=\"<Enter Cluster ID>\"\n",
    "Dev_Cluster_1=\"<Enter Cluster ID>\"\n",
    "Prod_Cluster_2=\"<Enter Cluster ID>\""
   ]
  },
  {
   "cell_type": "code",
   "execution_count": null,
   "metadata": {},
   "outputs": [],
   "source": [
    "#Defining Function to Start teh respective Clusters and Get its Status\n",
    "\n",
    "def start_cluster_and_get_status(domain_url,token,cluste_id):\n",
    "    \"\"\"\n",
    "    Start a Databricks cluster and get its status.\n",
    "\n",
    "    Parameters:\n",
    "    - domain_url (str) : Environment URL for Databricks.\n",
    "    - token (str) :  Personal Access Token for Databricks\n",
    "    - cluster_id(str) : ID of the cluster to start.\n",
    "\n",
    "    Returns:\n",
    "    - str: Status of the cluster.\n",
    "    \"\"\"\n",
    "\n",
    "    start_cluster_url=f\"{domain_url}/api/2.0/clusters/start\"\n",
    "    get_cluster_url=f\"{domain_url}/api/2.0/clusters/get\"\n",
    "    headers = {\n",
    "        \"Authorization\" : f\"Bearer {pat_token}\"\n",
    "    }\n",
    "    cluster_data = {\n",
    "        \"cluster_id\":cluste_id\n",
    "    }\n",
    "\n",
    "    # Start the cluster\n",
    "    start_response =  requests.post(start_cluster_url,headers=headers,json=cluster_data)\n",
    "    \n",
    "    status_response = requests.post(get_cluster_url,headers=headers,params=cluster_data)\n",
    "    cluster_info=status_response.json()\n",
    "    cluster_name=cluster_info[\"cluster_name\"]\n",
    "\n",
    "    if status_response.status_code==200:\n",
    "        print(f\"Cluster {cluster_name} with ID:{cluster_id} start initiated.\")\n",
    "    else:\n",
    "        return f\"Cluster {cluster_name} start failed with {status_response.text.split(',')[1]}\"\n",
    "    \n",
    "    #Check the Status of cluster\n",
    "    status_response = requests.post(get_cluster_url,headers=headers,params=cluster_data)\n",
    "    cluster_info=status_response.json()\n",
    "\n",
    "    while cluster_info['state'] == 'PENDING':\n",
    "        sleep(60)\n",
    "        status_response = requests.post(get_cluster_url,headers=headers,params=cluster_data)\n",
    "        cluster_info=status_response.json()\n",
    "        print(f\"Cluster {cluster_name} status: {cluster_info['state']}\")\n"
   ]
  },
  {
   "cell_type": "code",
   "execution_count": null,
   "metadata": {},
   "outputs": [],
   "source": [
    "#Starting the PROD Clusters\n",
    "\n",
    "start_cluster_and_get_status(prod_domain_url,ProdToken,Prod_Cluster_1)\n",
    "start_cluster_and_get_status(prod_domain_url,ProdToken,Prod_Cluster_2)"
   ]
  },
  {
   "cell_type": "code",
   "execution_count": null,
   "metadata": {},
   "outputs": [],
   "source": [
    "#Starting the DEV Clusters\n",
    "start_cluster_and_get_status(dev_domain_url,DevToken,Dev_Cluster_1)"
   ]
  }
 ],
 "metadata": {
  "language_info": {
   "name": "python"
  }
 },
 "nbformat": 4,
 "nbformat_minor": 2
}
